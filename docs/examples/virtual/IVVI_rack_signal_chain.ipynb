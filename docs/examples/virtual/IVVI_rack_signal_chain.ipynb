{
 "cells": [
  {
   "cell_type": "markdown",
   "metadata": {},
   "source": [
    "# IVVI Rack Signal Chain Example\n",
    "\n",
    "This notebook demonstrates the usage of the modular signal chain virtual instrument for IVVI rack topology.\n",
    "\n",
    "## Signal Chain Topology\n",
    "\n",
    "```\n",
    "[MFLI AC Voltage Source (programmable V)]\n",
    "  → [Manual V→I Transformer (manual transconductance)]\n",
    "  → [Sample]\n",
    "  → [Manual Voltage Preamp (flat V/V)]\n",
    "  → [MFLI Input & Demod (programmable)]\n",
    "```\n",
    "\n",
    "The key feature is a single current setpoint parameter (`I_set`) that automatically computes and applies the correct MFLI source voltage amplitude."
   ]
  },
  {
   "cell_type": "code",
   "execution_count": null,
   "metadata": {},
   "outputs": [],
   "source": [
    "# Import required modules\n",
    "import numpy as np\n",
    "from qcodes.parameters import ManualParameter\n",
    "\n",
    "# Import signal chain components\n",
    "from qcodes_contrib_drivers.drivers.ZurichInstruments.MFLI import MFLI\n",
    "from qcodes_contrib_drivers.drivers.virtual import (\n",
    "    MFLISource, \n",
    "    ManualVITransformer, \n",
    "    ManualVoltagePreamp, \n",
    "    MFLILockIn,\n",
    "    SignalChain\n",
    ")"
   ]
  },
  {
   "cell_type": "markdown",
   "metadata": {},
   "source": [
    "## Setup Signal Chain Components\n",
    "\n",
    "In a real setup, you would connect to actual MFLI hardware. For this example, we'll use mock parameters."
   ]
  },
  {
   "cell_type": "code",
   "execution_count": null,
   "metadata": {},
   "outputs": [],
   "source": [
    "# For demonstration, create mock MFLI parameters\n",
    "# In real use, you would connect to actual hardware:\n",
    "# mfli_hw = MFLI('mfli', 'dev1234', demod=0, sigout=0, auxouts={'X': 0, 'Y': 1, 'R': 2, 'Theta': 3})\n",
    "\n",
    "class MockMFLI:\n",
    "    \"\"\"Mock MFLI for demonstration purposes.\"\"\"\n",
    "    def __init__(self):\n",
    "        self.amplitude = ManualParameter('amplitude', initial_value=0.001, unit='V')\n",
    "        self.frequency = ManualParameter('frequency', initial_value=1000.0, unit='Hz')\n",
    "        self.output_on = ManualParameter('output_on', initial_value=False)\n",
    "        self.time_constant = ManualParameter('time_constant', initial_value=0.01, unit='s')\n",
    "        self.sensitivity = ManualParameter('sensitivity', initial_value=1e-3, unit='V')\n",
    "        self.input_range = ManualParameter('input_range', initial_value=1.0, unit='V')\n",
    "        self.X = ManualParameter('X', initial_value=0.0, unit='V')\n",
    "        self.Y = ManualParameter('Y', initial_value=0.0, unit='V')\n",
    "        self.R = ManualParameter('R', initial_value=0.0, unit='V')\n",
    "        self.Theta = ManualParameter('Theta', initial_value=0.0, unit='deg')\n",
    "\n",
    "mock_mfli = MockMFLI()\n",
    "\n",
    "# Create signal chain nodes\n",
    "src_v = MFLISource('mfli_source', mock_mfli)\n",
    "vi_transformer = ManualVITransformer('vi_transformer')\n",
    "preamp = ManualVoltagePreamp('voltage_preamp')\n",
    "lockin = MFLILockIn('mfli_lockin', mock_mfli)\n",
    "\n",
    "print(\"Signal chain components created successfully\")"
   ]
  },
  {
   "cell_type": "markdown",
   "metadata": {},
   "source": [
    "## Configure Manual Parameters\n",
    "\n",
    "Set the manual parameters that describe your physical setup."
   ]
  },
  {
   "cell_type": "code",
   "execution_count": null,
   "metadata": {},
   "outputs": [],
   "source": [
    "# Configure V→I transformer\n",
    "vi_transformer.gm_a_per_v.set(1e-3)  # 1 mA/V transconductance\n",
    "vi_transformer.invert.set(False)      # No polarity inversion\n",
    "\n",
    "# Configure voltage preamp\n",
    "preamp.gain_v_per_v.set(100.0)      # 100 V/V gain\n",
    "preamp.invert.set(False)             # No polarity inversion\n",
    "\n",
    "print(f\"V→I transconductance: {vi_transformer.gm_a_per_v()} A/V\")\n",
    "print(f\"Preamp gain: {preamp.gain_v_per_v()} V/V\")"
   ]
  },
  {
   "cell_type": "markdown",
   "metadata": {},
   "source": [
    "## Create Signal Chain Virtual Instrument\n",
    "\n",
    "The signal chain provides a unified interface with current setpoint control."
   ]
  },
  {
   "cell_type": "code",
   "execution_count": null,
   "metadata": {},
   "outputs": [],
   "source": [
    "# Create the signal chain virtual instrument\n",
    "ivvi_rack = SignalChain(\n",
    "    src_v=src_v,\n",
    "    vi_transformer=vi_transformer, \n",
    "    preamp=preamp,\n",
    "    lockin=lockin,\n",
    "    name='ivvi_rack'\n",
    ")\n",
    "\n",
    "# Configure advisory parameters\n",
    "ivvi_rack.R_est.set(10e3)        # Estimate 10 kΩ sample resistance\n",
    "ivvi_rack.margin.set(3.0)        # 3× safety margin for guards\n",
    "ivvi_rack.amplitude_convention.set('rms')  # Use RMS convention\n",
    "\n",
    "print(\"IVVI rack signal chain created successfully\")\n",
    "print(f\"Available parameters: {list(ivvi_rack.parameters.keys())}\")"
   ]
  },
  {
   "cell_type": "markdown",
   "metadata": {},
   "source": [
    "## Demonstrate Current Setpoint Control\n",
    "\n",
    "The key feature: set a target current and the system automatically calculates the required source voltage."
   ]
  },
  {
   "cell_type": "code",
   "execution_count": null,
   "metadata": {},
   "outputs": [],
   "source": [
    "# Set target current\n",
    "I_target = 1e-6  # 1 µA\n",
    "\n",
    "print(f\"Setting target current: {I_target*1e6:.1f} µA\")\n",
    "ivvi_rack.I_set.set(I_target)\n",
    "\n",
    "# Check what happened\n",
    "print(f\"Excitation voltage set to: {ivvi_rack.excitation_v_ac()*1e3:.3f} mV RMS\")\n",
    "print(f\"Output enabled: {ivvi_rack.output_on()}\")\n",
    "print(f\"Commanded current: {ivvi_rack.I_cmd()*1e6:.1f} µA\")\n",
    "\n",
    "# Verify calculation\n",
    "gm_eff = ivvi_rack._gm_eff()\n",
    "expected_voltage = I_target / gm_eff\n",
    "print(f\"Expected voltage (I/gm): {expected_voltage*1e3:.3f} mV\")"
   ]
  },
  {
   "cell_type": "markdown",
   "metadata": {},
   "source": [
    "## Frequency Coupling\n",
    "\n",
    "Setting the reference frequency updates both source and demod frequencies simultaneously."
   ]
  },
  {
   "cell_type": "code",
   "execution_count": null,
   "metadata": {},
   "outputs": [],
   "source": [
    "# Set reference frequency\n",
    "freq = 1500.0  # Hz\n",
    "ivvi_rack.reference_frequency.set(freq)\n",
    "\n",
    "print(f\"Reference frequency set to: {freq} Hz\")\n",
    "print(f\"Source frequency: {src_v.frequency()} Hz\")\n",
    "print(f\"Lock-in frequency: {lockin.frequency()} Hz\")\n",
    "print(f\"Reference frequency readback: {ivvi_rack.reference_frequency()} Hz\")"
   ]
  },
  {
   "cell_type": "markdown",
   "metadata": {},
   "source": [
    "## Simulate a Measurement\n",
    "\n",
    "Simulate taking a measurement and see the derived parameters in action."
   ]
  },
  {
   "cell_type": "code",
   "execution_count": null,
   "metadata": {},
   "outputs": [],
   "source": [
    "# Simulate measurement data (in a real setup, this comes from hardware)\n",
    "# Let's simulate that we measure the expected response\n",
    "R_sample = 10e3  # 10 kΩ as estimated\n",
    "I_actual = I_target  # Assume we get exactly what we set\n",
    "V_sample_actual = I_actual * R_sample  # Ohm's law\n",
    "V_preamp_out = V_sample_actual * preamp.gain_v_per_v()  # After preamp\n",
    "\n",
    "# Set the lock-in readings to simulate this\n",
    "mock_mfli.X.set(V_preamp_out)  # Only X component for simplicity\n",
    "mock_mfli.Y.set(0.0)\n",
    "mock_mfli.R.set(V_preamp_out)\n",
    "mock_mfli.Theta.set(0.0)\n",
    "\n",
    "print(f\"Simulated measurement:\")\n",
    "print(f\"  Sample voltage: {V_sample_actual*1e3:.3f} mV\")\n",
    "print(f\"  Preamp output: {V_preamp_out:.3f} V\")\n",
    "print(f\"  Lock-in X: {ivvi_rack.X():.3f} V\")\n",
    "print(f\"  Lock-in Y: {ivvi_rack.Y():.3f} V\")\n",
    "print(f\"  Lock-in R: {ivvi_rack.R():.3f} V\")"
   ]
  },
  {
   "cell_type": "markdown",
   "metadata": {},
   "source": [
    "## Derived Physics Parameters\n",
    "\n",
    "The signal chain automatically calculates physics-relevant parameters."
   ]
  },
  {
   "cell_type": "code",
   "execution_count": null,
   "metadata": {},
   "outputs": [],
   "source": [
    "# Check derived parameters\n",
    "V_sample_meas = ivvi_rack.V_sample_ac_meas()\n",
    "I_meas = ivvi_rack.I_meas()\n",
    "recommended_sens = ivvi_rack.recommended_sensitivity()\n",
    "\n",
    "print(f\"Derived parameters:\")\n",
    "print(f\"  Measured sample voltage: {abs(V_sample_meas)*1e3:.3f} mV\")\n",
    "print(f\"  Measured current: {I_meas*1e6:.1f} µA\")\n",
    "print(f\"  Recommended sensitivity: {recommended_sens:.3f} V\")\n",
    "print(f\"  Current sensitivity: {ivvi_rack.sensitivity():.3g} V\")\n",
    "\n",
    "# Verify the calculations\n",
    "print(f\"\\nVerification:\")\n",
    "print(f\"  V_sample expected: {V_sample_actual*1e3:.3f} mV\")\n",
    "print(f\"  V_sample measured: {abs(V_sample_meas)*1e3:.3f} mV\")\n",
    "print(f\"  I_target: {I_target*1e6:.1f} µA\")\n",
    "print(f\"  I_measured: {I_meas*1e6:.1f} µA\")"
   ]
  },
  {
   "cell_type": "markdown",
   "metadata": {},
   "source": [
    "## Guard Functions\n",
    "\n",
    "Test the guard functions that warn about potential overloads."
   ]
  },
  {
   "cell_type": "code",
   "execution_count": null,
   "metadata": {},
   "outputs": [],
   "source": [
    "# Test guard function by setting a large current that would overload\n",
    "print(\"Testing guard function...\")\n",
    "print(f\"Current input range: {ivvi_rack.input_range()} V\")\n",
    "\n",
    "# Calculate current that would just exceed 80% of input range\n",
    "input_range = ivvi_rack.input_range()\n",
    "R_est = ivvi_rack.R_est()\n",
    "gv_eff = abs(ivvi_rack._gv_eff())\n",
    "\n",
    "I_80_percent = 0.8 * input_range / (R_est * gv_eff)\n",
    "I_overload = 0.9 * input_range / (R_est * gv_eff)  # This should trigger warning\n",
    "\n",
    "print(f\"Current for 80% of range: {I_80_percent*1e6:.2f} µA\")\n",
    "print(f\"Testing with: {I_overload*1e6:.2f} µA (should trigger guard)\")\n",
    "\n",
    "# This should print a guard warning\n",
    "ivvi_rack.I_set.set(I_overload)"
   ]
  },
  {
   "cell_type": "markdown",
   "metadata": {},
   "source": [
    "## Snapshot and State Management\n",
    "\n",
    "The signal chain properly captures all manual parameters in snapshots."
   ]
  },
  {
   "cell_type": "code",
   "execution_count": null,
   "metadata": {},
   "outputs": [],
   "source": [
    "# Take a snapshot of the entire signal chain\n",
    "snapshot = ivvi_rack.snapshot()\n",
    "\n",
    "print(\"Signal chain snapshot (key parameters):\")\n",
    "for param in ['I_set', 'I_cmd', 'excitation_v_ac', 'reference_frequency', \n",
    "              'gm_a_per_v', 'preamp_gain', 'R_est', 'margin']:\n",
    "    if param in snapshot['parameters']:\n",
    "        value = snapshot['parameters'][param]['value']\n",
    "        unit = snapshot['parameters'][param].get('unit', '')\n",
    "        print(f\"  {param}: {value} {unit}\")"
   ]
  },
  {
   "cell_type": "markdown",
   "metadata": {},
   "source": [
    "## Summary\n",
    "\n",
    "This example demonstrated:\n",
    "\n",
    "1. **Modular Architecture**: Abstract bases + concrete nodes for different devices\n",
    "2. **Current Setpoint Control**: Single `I_set` parameter with automatic voltage calculation\n",
    "3. **Frequency Coupling**: Synchronized source and demod frequencies\n",
    "4. **Derived Parameters**: Automatic calculation of physics-relevant quantities\n",
    "5. **Guard Functions**: Protection against input overloads\n",
    "6. **State Management**: Proper snapshotting of manual parameters\n",
    "\n",
    "### Key Features:\n",
    "\n",
    "- **I_set = 1e-6 A** → automatically sets **excitation_v_ac = 1e-3 V** (for gm = 1e-3 A/V)\n",
    "- **reference_frequency** couples source and demod frequencies\n",
    "- **Guard functions** warn when predicted input exceeds 80% of range\n",
    "- **Derived parameters** provide V_sample_ac_meas, I_meas, recommended_sensitivity\n",
    "- **Manual parameters** are properly captured in snapshots\n",
    "\n",
    "The system is designed to be **minimal disruption** to existing code while providing a **clean, physics-oriented interface** for current-based measurements."
   ]
  }
 ],
 "metadata": {
  "kernelspec": {
   "display_name": "Python 3",
   "language": "python",
   "name": "python3"
  },
  "language_info": {
   "codemirror_mode": {
    "name": "ipython",
    "version": 3
   },
   "file_extension": ".py",
   "mimetype": "text/x-python",
   "name": "python",
   "nbconvert_exporter": "python",
   "pygments_lexer": "ipython3",
   "version": "3.8.5"
  }
 },
 "nbformat": 4,
 "nbformat_minor": 4
}