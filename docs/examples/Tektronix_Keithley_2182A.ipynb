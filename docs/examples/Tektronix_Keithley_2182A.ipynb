{
 "cells": [
  {
   "cell_type": "markdown",
   "metadata": {},
   "source": [
    "# Keithley 2182A Nanovoltmeter - Basic Usage\n",
    "\n",
    "This notebook demonstrates the essential functionality of the QCoDeS driver for the Keithley 2182A nanovoltmeter."
   ]
  },
  {
   "cell_type": "code",
   "execution_count": null,
   "metadata": {},
   "outputs": [],
   "source": [
    "# Import the driver\n",
    "from qcodes_contrib_drivers.drivers.Tektronix.Keithley_2182A import Keithley2182A"
   ]
  },
  {
   "cell_type": "markdown",
   "metadata": {},
   "source": [
    "## 1. Initialize the Instrument"
   ]
  },
  {
   "cell_type": "code",
   "execution_count": null,
   "metadata": {},
   "outputs": [],
   "source": [
    "# Connect to the instrument\n",
    "# Replace with your actual VISA address\n",
    "k2182a = Keithley2182A('k2182a', 'TCPIP::192.168.1.100::INSTR')\n",
    "\n",
    "# Check instrument identity\n",
    "print(\"Connected to:\", k2182a.IDN())"
   ]
  },
  {
   "cell_type": "markdown",
   "metadata": {},
   "source": [
    "## 2. Basic Voltage Measurement"
   ]
  },
  {
   "cell_type": "code",
   "execution_count": null,
   "metadata": {},
   "outputs": [],
   "source": [
    "# Configure for basic voltage measurement\n",
    "k2182a.mode('dc voltage')\n",
    "k2182a.auto_range_enabled(True)\n",
    "k2182a.nplc(1.0)  # 1 power line cycle for good balance of speed and accuracy\n",
    "\n",
    "# Take a voltage measurement\n",
    "voltage = k2182a.voltage()\n",
    "print(f\"Measured voltage: {voltage:.6f} V\")"
   ]
  },
  {
   "cell_type": "markdown",
   "metadata": {},
   "source": [
    "## 3. MEASure vs FETCh Commands"
   ]
  },
  {
   "cell_type": "code",
   "execution_count": null,
   "metadata": {},
   "outputs": [],
   "source": [
    "# MEASure command - triggers a new measurement\n",
    "measured_value = k2182a._measure_voltage()\n",
    "print(f\"MEASure result: {measured_value:.6f} V\")\n",
    "\n",
    "# FETCh command - gets the last measurement from buffer\n",
    "fetched_value = k2182a.fetch()\n",
    "print(f\"FETCh result: {fetched_value:.6f} V\")"
   ]
  },
  {
   "cell_type": "markdown",
   "metadata": {},
   "source": [
    "## 4. Temperature Measurement"
   ]
  },
  {
   "cell_type": "code",
   "execution_count": null,
   "metadata": {},
   "outputs": [],
   "source": [
    "# Switch to temperature measurement mode\n",
    "k2182a.mode('temperature')\n",
    "k2182a.temperature_units('celsius')\n",
    "\n",
    "# Measure temperature\n",
    "temperature = k2182a.temperature()\n",
    "print(f\"Measured temperature: {temperature:.2f} °C\")"
   ]
  },
  {
   "cell_type": "markdown",
   "metadata": {},
   "source": [
    "## 5. Noise Reduction Settings"
   ]
  },
  {
   "cell_type": "code",
   "execution_count": null,
   "metadata": {},
   "outputs": [],
   "source": [
    "# Switch back to voltage mode\n",
    "k2182a.mode('dc voltage')\n",
    "\n",
    "# Enable averaging for noise reduction\n",
    "k2182a.averaging_enabled(True)\n",
    "k2182a.averaging_count(10)\n",
    "\n",
    "# Enable filters\n",
    "k2182a.analog_filter(True)\n",
    "k2182a.digital_filter(True)\n",
    "\n",
    "# Take a low-noise measurement\n",
    "voltage = k2182a.voltage()\n",
    "print(f\"Low-noise measurement: {voltage:.6f} V\")"
   ]
  },
  {
   "cell_type": "markdown",
   "metadata": {},
   "source": [
    "## 6. Quick Configuration Presets"
   ]
  },
  {
   "cell_type": "code",
   "execution_count": null,
   "metadata": {},
   "outputs": [],
   "source": [
    "# Optimize for maximum accuracy (slower but more precise)\n",
    "k2182a.optimize_for_low_noise()\n",
    "voltage_accurate = k2182a.voltage()\n",
    "print(f\"High accuracy measurement: {voltage_accurate:.6f} V\")\n",
    "\n",
    "# Optimize for speed (faster but less precise)\n",
    "k2182a.optimize_for_speed()\n",
    "voltage_fast = k2182a.voltage()\n",
    "print(f\"Fast measurement: {voltage_fast:.6f} V\")"
   ]
  },
  {
   "cell_type": "markdown",
   "metadata": {},
   "source": [
    "## 7. Cleanup"
   ]
  },
  {
   "cell_type": "code",
   "execution_count": null,
   "metadata": {},
   "outputs": [],
   "source": [
    "# Close the connection\n",
    "k2182a.close()\n",
    "print(\"Instrument connection closed.\")"
   ]
  }
 ],
 "metadata": {
  "kernelspec": {
   "display_name": "Python 3",
   "language": "python",
   "name": "python3"
  },
  "language_info": {
   "name": "python",
   "version": "3.8.0"
  }
 },
 "nbformat": 4,
 "nbformat_minor": 4
}