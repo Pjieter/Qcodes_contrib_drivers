{
 "cells": [
  {
   "cell_type": "markdown",
   "metadata": {},
   "source": [
    "# Tektronix Keithley 2182A Nanovoltmeter Driver Example\n",
    "\n",
    "This notebook demonstrates the usage of the QCoDeS driver for the Keithley 2182A nanovoltmeter. The Keithley 2182A is a precision nanovoltmeter capable of measuring voltages down to the nanovolt level with exceptional accuracy.\n",
    "\n",
    "## Key Features\n",
    "\n",
    "- **High-precision voltage measurements** down to nanovolt levels\n",
    "- **Temperature measurements** with multiple unit support\n",
    "- **Comprehensive noise reduction** features\n",
    "- **Flexible trigger system** for precise measurement timing\n",
    "- **Statistical analysis** capabilities"
   ]
  },
  {
   "cell_type": "code",
   "execution_count": 3,
   "metadata": {},
   "outputs": [],
   "source": [
    "# Import necessary modules\n",
    "import numpy as np\n",
    "import matplotlib.pyplot as plt\n",
    "from qcodes_contrib_drivers.drivers.Tektronix.Keithley_2182A import Keithley2182A\n",
    "\n",
    "# For demonstration purposes, we'll use a simulated instrument\n",
    "# In real usage, replace with your actual VISA address\n",
    "import qcodes.instrument.sims as sims\n",
    "visalib = sims.__file__.replace('__init__.py', 'Keithley_2182A.yaml@sim')"
   ]
  },
  {
   "cell_type": "markdown",
   "metadata": {},
   "source": [
    "## 1. Instrument Initialization and Basic Setup"
   ]
  },
  {
   "cell_type": "code",
   "execution_count": 6,
   "metadata": {},
   "outputs": [
    {
     "name": "stdout",
     "output_type": "stream",
     "text": [
      "Connected to:  None (serial:None, firmware:None) in 0.03s\n",
      "Connected to: {'vendor': '', 'model': None, 'serial': None, 'firmware': None}\n"
     ]
    },
    {
     "name": "stderr",
     "output_type": "stream",
     "text": [
      "c:\\Users\\mpdubbelman\\AppData\\Local\\pypoetry\\Cache\\virtualenvs\\qcodes-contrib-drivers-Gy7dXcBw-py3.12\\Lib\\site-packages\\pyvisa\\resources\\messagebased.py:690: UserWarning: read string doesn't end with termination characters\n",
      "  return self.read()\n"
     ]
    }
   ],
   "source": [
    "# Initialize the Keithley 2182A\n",
    "# For real hardware, use something like: 'TCPIP::192.168.1.100::INSTR'\n",
    "voltmeter = Keithley2182A(\n",
    "        \"Keithley_2600\",\n",
    "        address=\"GPIB::1::INSTR\",\n",
    "        pyvisa_sim_file=\"qcodes_contrib_drivers.sims:Keithley_2182A.yaml\",\n",
    "        terminator=\"\\n\",\n",
    "    )\n",
    "\n",
    "# Check instrument identification\n",
    "print(f\"Connected to: {voltmeter.get_idn()}\")"
   ]
  },
  {
   "cell_type": "markdown",
   "metadata": {},
   "source": [
    "## 2. Basic Voltage Measurements\n",
    "\n",
    "The Keithley 2182A excels at high-precision voltage measurements. Let's start with basic configuration and measurements."
   ]
  },
  {
   "cell_type": "code",
   "execution_count": 7,
   "metadata": {},
   "outputs": [
    {
     "ename": "KeyError",
     "evalue": "(\"'' not in val_mapping\", 'getting Keithley_2600_mode')",
     "output_type": "error",
     "traceback": [
      "\u001b[31m---------------------------------------------------------------------------\u001b[39m",
      "\u001b[31mValueError\u001b[39m                                Traceback (most recent call last)",
      "\u001b[36mFile \u001b[39m\u001b[32mc:\\Users\\mpdubbelman\\AppData\\Local\\pypoetry\\Cache\\virtualenvs\\qcodes-contrib-drivers-Gy7dXcBw-py3.12\\Lib\\site-packages\\qcodes\\parameters\\parameter_base.py:704\u001b[39m, in \u001b[36mParameterBase._from_raw_value_to_value\u001b[39m\u001b[34m(self, raw_value)\u001b[39m\n\u001b[32m    703\u001b[39m \u001b[38;5;28;01mtry\u001b[39;00m:\n\u001b[32m--> \u001b[39m\u001b[32m704\u001b[39m     value = \u001b[38;5;28mself\u001b[39m.inverse_val_mapping[\u001b[38;5;28;43mint\u001b[39;49m\u001b[43m(\u001b[49m\u001b[43mvalue\u001b[49m\u001b[43m)\u001b[49m]\n\u001b[32m    705\u001b[39m \u001b[38;5;28;01mexcept\u001b[39;00m (\u001b[38;5;167;01mValueError\u001b[39;00m, \u001b[38;5;167;01mKeyError\u001b[39;00m):\n",
      "\u001b[31mValueError\u001b[39m: invalid literal for int() with base 10: ''",
      "\nDuring handling of the above exception, another exception occurred:\n",
      "\u001b[31mKeyError\u001b[39m                                  Traceback (most recent call last)",
      "\u001b[36mCell\u001b[39m\u001b[36m \u001b[39m\u001b[32mIn[7]\u001b[39m\u001b[32m, line 8\u001b[39m\n\u001b[32m      1\u001b[39m \u001b[38;5;66;03m# Configure for voltage measurements\u001b[39;00m\n\u001b[32m      2\u001b[39m voltmeter.configure_voltage_measurement(\n\u001b[32m      3\u001b[39m     auto_range=\u001b[38;5;28;01mTrue\u001b[39;00m,\n\u001b[32m      4\u001b[39m     nplc=\u001b[32m1.0\u001b[39m,        \u001b[38;5;66;03m# 1 power line cycle for balanced speed/accuracy\u001b[39;00m\n\u001b[32m      5\u001b[39m     auto_zero=\u001b[38;5;28;01mTrue\u001b[39;00m   \u001b[38;5;66;03m# Enable auto-zero for best accuracy\u001b[39;00m\n\u001b[32m      6\u001b[39m )\n\u001b[32m----> \u001b[39m\u001b[32m8\u001b[39m \u001b[38;5;28mprint\u001b[39m(\u001b[33mf\u001b[39m\u001b[33m\"\u001b[39m\u001b[33mMeasurement mode: \u001b[39m\u001b[38;5;132;01m{\u001b[39;00m\u001b[43mvoltmeter\u001b[49m\u001b[43m.\u001b[49m\u001b[43mmode\u001b[49m\u001b[43m(\u001b[49m\u001b[43m)\u001b[49m\u001b[38;5;132;01m}\u001b[39;00m\u001b[33m\"\u001b[39m)\n\u001b[32m      9\u001b[39m \u001b[38;5;28mprint\u001b[39m(\u001b[33mf\u001b[39m\u001b[33m\"\u001b[39m\u001b[33mAuto-range enabled: \u001b[39m\u001b[38;5;132;01m{\u001b[39;00mvoltmeter.auto_range_enabled()\u001b[38;5;132;01m}\u001b[39;00m\u001b[33m\"\u001b[39m)\n\u001b[32m     10\u001b[39m \u001b[38;5;28mprint\u001b[39m(\u001b[33mf\u001b[39m\u001b[33m\"\u001b[39m\u001b[33mIntegration time (NPLC): \u001b[39m\u001b[38;5;132;01m{\u001b[39;00mvoltmeter.nplc()\u001b[38;5;132;01m}\u001b[39;00m\u001b[33m\"\u001b[39m)\n",
      "\u001b[36mFile \u001b[39m\u001b[32mc:\\Users\\mpdubbelman\\AppData\\Local\\pypoetry\\Cache\\virtualenvs\\qcodes-contrib-drivers-Gy7dXcBw-py3.12\\Lib\\site-packages\\qcodes\\parameters\\parameter_base.py:523\u001b[39m, in \u001b[36mParameterBase.__call__\u001b[39m\u001b[34m(self, *args, **kwargs)\u001b[39m\n\u001b[32m    521\u001b[39m \u001b[38;5;28;01mif\u001b[39;00m \u001b[38;5;28mlen\u001b[39m(args) == \u001b[32m0\u001b[39m \u001b[38;5;129;01mand\u001b[39;00m \u001b[38;5;28mlen\u001b[39m(kwargs) == \u001b[32m0\u001b[39m:\n\u001b[32m    522\u001b[39m     \u001b[38;5;28;01mif\u001b[39;00m \u001b[38;5;28mself\u001b[39m.gettable:\n\u001b[32m--> \u001b[39m\u001b[32m523\u001b[39m         \u001b[38;5;28;01mreturn\u001b[39;00m \u001b[38;5;28;43mself\u001b[39;49m\u001b[43m.\u001b[49m\u001b[43mget\u001b[49m\u001b[43m(\u001b[49m\u001b[43m)\u001b[49m\n\u001b[32m    524\u001b[39m     \u001b[38;5;28;01melse\u001b[39;00m:\n\u001b[32m    525\u001b[39m         \u001b[38;5;28;01mraise\u001b[39;00m \u001b[38;5;167;01mNotImplementedError\u001b[39;00m(\u001b[33mf\u001b[39m\u001b[33m\"\u001b[39m\u001b[33mno get cmd found in Parameter \u001b[39m\u001b[38;5;132;01m{\u001b[39;00m\u001b[38;5;28mself\u001b[39m.name\u001b[38;5;132;01m}\u001b[39;00m\u001b[33m\"\u001b[39m)\n",
      "\u001b[36mFile \u001b[39m\u001b[32mc:\\Users\\mpdubbelman\\AppData\\Local\\pypoetry\\Cache\\virtualenvs\\qcodes-contrib-drivers-Gy7dXcBw-py3.12\\Lib\\site-packages\\qcodes\\parameters\\parameter_base.py:736\u001b[39m, in \u001b[36mParameterBase._wrap_get.<locals>.get_wrapper\u001b[39m\u001b[34m(*args, **kwargs)\u001b[39m\n\u001b[32m    734\u001b[39m \u001b[38;5;28;01mexcept\u001b[39;00m \u001b[38;5;167;01mException\u001b[39;00m \u001b[38;5;28;01mas\u001b[39;00m e:\n\u001b[32m    735\u001b[39m     e.args = (*e.args, \u001b[33mf\u001b[39m\u001b[33m\"\u001b[39m\u001b[33mgetting \u001b[39m\u001b[38;5;132;01m{\u001b[39;00m\u001b[38;5;28mself\u001b[39m\u001b[38;5;132;01m}\u001b[39;00m\u001b[33m\"\u001b[39m)\n\u001b[32m--> \u001b[39m\u001b[32m736\u001b[39m     \u001b[38;5;28;01mraise\u001b[39;00m e\n",
      "\u001b[36mFile \u001b[39m\u001b[32mc:\\Users\\mpdubbelman\\AppData\\Local\\pypoetry\\Cache\\virtualenvs\\qcodes-contrib-drivers-Gy7dXcBw-py3.12\\Lib\\site-packages\\qcodes\\parameters\\parameter_base.py:725\u001b[39m, in \u001b[36mParameterBase._wrap_get.<locals>.get_wrapper\u001b[39m\u001b[34m(*args, **kwargs)\u001b[39m\n\u001b[32m    721\u001b[39m \u001b[38;5;28;01mtry\u001b[39;00m:\n\u001b[32m    722\u001b[39m     \u001b[38;5;66;03m# There might be cases where a .get also has args/kwargs\u001b[39;00m\n\u001b[32m    723\u001b[39m     raw_value = get_function(*args, **kwargs)\n\u001b[32m--> \u001b[39m\u001b[32m725\u001b[39m     value = \u001b[38;5;28;43mself\u001b[39;49m\u001b[43m.\u001b[49m\u001b[43m_from_raw_value_to_value\u001b[49m\u001b[43m(\u001b[49m\u001b[43mraw_value\u001b[49m\u001b[43m)\u001b[49m\n\u001b[32m    727\u001b[39m     \u001b[38;5;28;01mif\u001b[39;00m \u001b[38;5;28mself\u001b[39m._validate_on_get:\n\u001b[32m    728\u001b[39m         \u001b[38;5;28mself\u001b[39m.validate(value)\n",
      "\u001b[36mFile \u001b[39m\u001b[32mc:\\Users\\mpdubbelman\\AppData\\Local\\pypoetry\\Cache\\virtualenvs\\qcodes-contrib-drivers-Gy7dXcBw-py3.12\\Lib\\site-packages\\qcodes\\parameters\\parameter_base.py:706\u001b[39m, in \u001b[36mParameterBase._from_raw_value_to_value\u001b[39m\u001b[34m(self, raw_value)\u001b[39m\n\u001b[32m    704\u001b[39m             value = \u001b[38;5;28mself\u001b[39m.inverse_val_mapping[\u001b[38;5;28mint\u001b[39m(value)]\n\u001b[32m    705\u001b[39m         \u001b[38;5;28;01mexcept\u001b[39;00m (\u001b[38;5;167;01mValueError\u001b[39;00m, \u001b[38;5;167;01mKeyError\u001b[39;00m):\n\u001b[32m--> \u001b[39m\u001b[32m706\u001b[39m             \u001b[38;5;28;01mraise\u001b[39;00m \u001b[38;5;167;01mKeyError\u001b[39;00m(\u001b[33mf\u001b[39m\u001b[33m\"\u001b[39m\u001b[33m'\u001b[39m\u001b[38;5;132;01m{\u001b[39;00mvalue\u001b[38;5;132;01m}\u001b[39;00m\u001b[33m'\u001b[39m\u001b[33m not in val_mapping\u001b[39m\u001b[33m\"\u001b[39m)\n\u001b[32m    708\u001b[39m \u001b[38;5;28;01mreturn\u001b[39;00m value\n",
      "\u001b[31mKeyError\u001b[39m: (\"'' not in val_mapping\", 'getting Keithley_2600_mode')"
     ]
    }
   ],
   "source": [
    "# Configure for voltage measurements\n",
    "voltmeter.configure_voltage_measurement(\n",
    "    auto_range=True,\n",
    "    nplc=1.0,        # 1 power line cycle for balanced speed/accuracy\n",
    "    auto_zero=True   # Enable auto-zero for best accuracy\n",
    ")\n",
    "\n",
    "print(f\"Measurement mode: {voltmeter.mode()}\")\n",
    "print(f\"Auto-range enabled: {voltmeter.auto_range_enabled()}\")\n",
    "print(f\"Integration time (NPLC): {voltmeter.nplc()}\")\n",
    "print(f\"Auto-zero enabled: {voltmeter.get_auto_zero()}\")"
   ]
  },
  {
   "cell_type": "code",
   "execution_count": null,
   "metadata": {},
   "outputs": [],
   "source": [
    "# Take a single voltage measurement\n",
    "voltage = voltmeter.voltage()\n",
    "print(f\"Measured voltage: {voltage:.6f} V\")\n",
    "print(f\"Measured voltage: {voltage*1e6:.3f} µV\")\n",
    "print(f\"Measured voltage: {voltage*1e9:.1f} nV\")"
   ]
  },
  {
   "cell_type": "markdown",
   "metadata": {},
   "source": [
    "## 3. MEASure vs FETCh Commands\n",
    "\n",
    "The Keithley 2182A supports both MEASure and FETCh commands:\n",
    "- **MEASure**: Triggers a new measurement and returns the result\n",
    "- **FETCh**: Retrieves the last measurement from the buffer without triggering"
   ]
  },
  {
   "cell_type": "code",
   "execution_count": null,
   "metadata": {},
   "outputs": [],
   "source": [
    "# MEASure command - triggers new measurement\n",
    "measured_value = voltmeter._measure_voltage()\n",
    "print(f\"MEASure command result: {measured_value:.6f} V\")\n",
    "\n",
    "# FETCh command - gets buffered result (should be the same)\n",
    "fetched_value = voltmeter.fetch()\n",
    "print(f\"FETCh command result: {fetched_value:.6f} V\")\n",
    "\n",
    "# READ command - combines trigger and fetch\n",
    "read_value = voltmeter.read()\n",
    "print(f\"READ command result: {read_value:.6f} V\")"
   ]
  },
  {
   "cell_type": "markdown",
   "metadata": {},
   "source": [
    "## 4. Optimization for Different Measurement Requirements\n",
    "\n",
    "The driver provides preset configurations for different measurement scenarios."
   ]
  },
  {
   "cell_type": "code",
   "execution_count": null,
   "metadata": {},
   "outputs": [],
   "source": [
    "# Optimize for maximum accuracy (low noise)\n",
    "print(\"=== Low Noise Configuration ===\")\n",
    "voltmeter.optimize_for_low_noise()\n",
    "\n",
    "print(f\"NPLC: {voltmeter.nplc()}\")\n",
    "print(f\"Averaging enabled: {voltmeter.averaging_enabled()}\")\n",
    "print(f\"Averaging count: {voltmeter.averaging_count()}\")\n",
    "print(f\"Analog filter: {voltmeter.analog_filter()}\")\n",
    "print(f\"Digital filter: {voltmeter.digital_filter()}\")\n",
    "\n",
    "# Take a measurement with low noise settings\n",
    "low_noise_voltage = voltmeter.voltage()\n",
    "print(f\"Low noise measurement: {low_noise_voltage:.6f} V\")"
   ]
  },
  {
   "cell_type": "code",
   "execution_count": null,
   "metadata": {},
   "outputs": [],
   "source": [
    "# Optimize for speed\n",
    "print(\"=== Fast Measurement Configuration ===\")\n",
    "voltmeter.optimize_for_speed()\n",
    "\n",
    "print(f\"NPLC: {voltmeter.nplc()}\")\n",
    "print(f\"Averaging enabled: {voltmeter.averaging_enabled()}\")\n",
    "print(f\"Analog filter: {voltmeter.analog_filter()}\")\n",
    "print(f\"Digital filter: {voltmeter.digital_filter()}\")\n",
    "\n",
    "# Take a fast measurement\n",
    "fast_voltage = voltmeter.voltage()\n",
    "print(f\"Fast measurement: {fast_voltage:.6f} V\")"
   ]
  },
  {
   "cell_type": "markdown",
   "metadata": {},
   "source": [
    "## 5. Statistical Analysis of Measurements\n",
    "\n",
    "For characterizing noise and stability, the driver provides built-in statistical analysis."
   ]
  },
  {
   "cell_type": "code",
   "execution_count": null,
   "metadata": {},
   "outputs": [],
   "source": [
    "# Configure for medium accuracy/speed balance\n",
    "voltmeter.set_measurement_speed('medium')\n",
    "\n",
    "# Take multiple measurements for statistical analysis\n",
    "num_measurements = 20\n",
    "stats = voltmeter.measure_voltage_statistics(num_measurements=num_measurements)\n",
    "\n",
    "print(f\"Statistical Analysis (n={stats['count']})\")\n",
    "print(f\"Mean voltage: {stats['mean']:.6f} V\")\n",
    "print(f\"Standard deviation: {stats['stdev']:.9f} V ({stats['stdev']*1e9:.2f} nV)\")\n",
    "print(f\"Minimum: {stats['min']:.6f} V\")\n",
    "print(f\"Maximum: {stats['max']:.6f} V\")\n",
    "print(f\"Peak-to-peak: {(stats['max'] - stats['min']):.9f} V ({(stats['max'] - stats['min'])*1e9:.2f} nV)\")"
   ]
  },
  {
   "cell_type": "code",
   "execution_count": null,
   "metadata": {},
   "outputs": [],
   "source": [
    "# Plot the measurement data\n",
    "measurements = stats['measurements']\n",
    "measurement_numbers = range(1, len(measurements) + 1)\n",
    "\n",
    "plt.figure(figsize=(12, 8))\n",
    "\n",
    "# Time series plot\n",
    "plt.subplot(2, 2, 1)\n",
    "plt.plot(measurement_numbers, np.array(measurements)*1e6, 'b.-', markersize=8)\n",
    "plt.axhline(y=stats['mean']*1e6, color='r', linestyle='--', label=f'Mean: {stats[\"mean\"]*1e6:.3f} µV')\n",
    "plt.xlabel('Measurement Number')\n",
    "plt.ylabel('Voltage (µV)')\n",
    "plt.title('Voltage Measurements vs Time')\n",
    "plt.legend()\n",
    "plt.grid(True, alpha=0.3)\n",
    "\n",
    "# Histogram\n",
    "plt.subplot(2, 2, 2)\n",
    "plt.hist(np.array(measurements)*1e6, bins=10, alpha=0.7, edgecolor='black')\n",
    "plt.xlabel('Voltage (µV)')\n",
    "plt.ylabel('Frequency')\n",
    "plt.title('Voltage Distribution')\n",
    "plt.grid(True, alpha=0.3)\n",
    "\n",
    "# Deviation from mean\n",
    "plt.subplot(2, 2, 3)\n",
    "deviations = (np.array(measurements) - stats['mean']) * 1e9\n",
    "plt.plot(measurement_numbers, deviations, 'g.-', markersize=8)\n",
    "plt.axhline(y=0, color='r', linestyle='--')\n",
    "plt.xlabel('Measurement Number')\n",
    "plt.ylabel('Deviation from Mean (nV)')\n",
    "plt.title('Measurement Stability')\n",
    "plt.grid(True, alpha=0.3)\n",
    "\n",
    "# Box plot\n",
    "plt.subplot(2, 2, 4)\n",
    "plt.boxplot(np.array(measurements)*1e6, patch_artist=True)\n",
    "plt.ylabel('Voltage (µV)')\n",
    "plt.title('Voltage Statistics')\n",
    "plt.grid(True, alpha=0.3)\n",
    "\n",
    "plt.tight_layout()\n",
    "plt.show()"
   ]
  },
  {
   "cell_type": "markdown",
   "metadata": {},
   "source": [
    "## 6. Temperature Measurements\n",
    "\n",
    "The Keithley 2182A can also measure temperature using appropriate probes."
   ]
  },
  {
   "cell_type": "code",
   "execution_count": null,
   "metadata": {},
   "outputs": [],
   "source": [
    "# Configure for temperature measurement\n",
    "voltmeter.configure_temperature_measurement(\n",
    "    units='celsius',\n",
    "    nplc=1.0\n",
    ")\n",
    "\n",
    "print(f\"Measurement mode: {voltmeter.mode()}\")\n",
    "print(f\"Temperature units: {voltmeter.temperature_units()}\")\n",
    "\n",
    "# Measure temperature (requires appropriate probe)\n",
    "try:\n",
    "    temperature_c = voltmeter.temperature()\n",
    "    print(f\"Temperature: {temperature_c:.2f} °C\")\n",
    "    \n",
    "    # Convert to other units\n",
    "    temperature_k = temperature_c + 273.15\n",
    "    temperature_f = temperature_c * 9/5 + 32\n",
    "    \n",
    "    print(f\"Temperature: {temperature_k:.2f} K\")\n",
    "    print(f\"Temperature: {temperature_f:.2f} °F\")\n",
    "    \n",
    "except Exception as e:\n",
    "    print(f\"Temperature measurement note: {e}\")\n",
    "    print(\"(Temperature measurement requires appropriate probe)\")"
   ]
  },
  {
   "cell_type": "markdown",
   "metadata": {},
   "source": [
    "## 7. Advanced Trigger System\n",
    "\n",
    "The instrument supports various trigger sources for precise measurement timing."
   ]
  },
  {
   "cell_type": "code",
   "execution_count": null,
   "metadata": {},
   "outputs": [],
   "source": [
    "# Set back to voltage mode\n",
    "voltmeter.mode('dc voltage')\n",
    "\n",
    "# Configure trigger system\n",
    "print(\"=== Trigger System Configuration ===\")\n",
    "\n",
    "# Set trigger source to manual\n",
    "voltmeter.trigger_source('manual')\n",
    "print(f\"Trigger source: {voltmeter.trigger_source()}\")\n",
    "\n",
    "# Set trigger delay\n",
    "voltmeter.trigger_delay(0.1)\n",
    "print(f\"Trigger delay: {voltmeter.trigger_delay()} s\")\n",
    "\n",
    "# Initiate measurement (puts instrument in wait-for-trigger state)\n",
    "voltmeter.initiate_measurement()\n",
    "print(\"Measurement initiated - waiting for trigger...\")\n",
    "\n",
    "# Send software trigger\n",
    "voltmeter.trigger()\n",
    "print(\"Trigger sent\")\n",
    "\n",
    "# Fetch the result\n",
    "triggered_result = voltmeter.fetch()\n",
    "print(f\"Triggered measurement result: {triggered_result:.6f} V\")\n",
    "\n",
    "# Reset to immediate triggering\n",
    "voltmeter.trigger_source('immediate')\n",
    "print(f\"Reset trigger source to: {voltmeter.trigger_source()}\")"
   ]
  },
  {
   "cell_type": "markdown",
   "metadata": {},
   "source": [
    "## 8. Comprehensive Status Monitoring\n",
    "\n",
    "The driver provides detailed status information for monitoring instrument configuration."
   ]
  },
  {
   "cell_type": "code",
   "execution_count": null,
   "metadata": {},
   "outputs": [],
   "source": [
    "# Get comprehensive measurement status\n",
    "status = voltmeter.get_measurement_status()\n",
    "\n",
    "print(\"=== Instrument Status ===\")\n",
    "for key, value in status.items():\n",
    "    print(f\"{key:20}: {value}\")\n",
    "\n",
    "# Check available ranges\n",
    "print(\"\\n=== Range Information ===\")\n",
    "ranges = voltmeter.check_ranges()\n",
    "for key, value in ranges.items():\n",
    "    print(f\"{key:20}: {value}\")"
   ]
  },
  {
   "cell_type": "markdown",
   "metadata": {},
   "source": [
    "## 9. Error Handling and Diagnostics"
   ]
  },
  {
   "cell_type": "code",
   "execution_count": null,
   "metadata": {},
   "outputs": [],
   "source": [
    "# Check for errors\n",
    "error_code, error_message = voltmeter.get_error()\n",
    "print(f\"Error status: {error_code} - {error_message}\")\n",
    "\n",
    "# Perform self-test\n",
    "self_test_result = voltmeter.self_test()\n",
    "print(f\"Self-test result: {'PASSED' if self_test_result else 'FAILED'}\")\n",
    "\n",
    "# Clear any errors\n",
    "voltmeter.clear_errors()\n",
    "print(\"Error queue cleared\")"
   ]
  },
  {
   "cell_type": "markdown",
   "metadata": {},
   "source": [
    "## 10. Measurement Speed Comparison\n",
    "\n",
    "Let's compare the three measurement speed presets."
   ]
  },
  {
   "cell_type": "code",
   "execution_count": null,
   "metadata": {},
   "outputs": [],
   "source": [
    "import time\n",
    "\n",
    "speed_settings = ['fast', 'medium', 'slow']\n",
    "measurement_times = []\n",
    "measurement_results = []\n",
    "\n",
    "for speed in speed_settings:\n",
    "    print(f\"\\n=== Testing {speed.upper()} speed setting ===\")\n",
    "    \n",
    "    # Set speed\n",
    "    voltmeter.set_measurement_speed(speed)\n",
    "    \n",
    "    # Display current settings\n",
    "    print(f\"NPLC: {voltmeter.nplc()}\")\n",
    "    print(f\"Analog filter: {voltmeter.analog_filter()}\")\n",
    "    print(f\"Digital filter: {voltmeter.digital_filter()}\")\n",
    "    \n",
    "    # Time a series of measurements\n",
    "    num_measurements = 10\n",
    "    start_time = time.time()\n",
    "    \n",
    "    measurements = []\n",
    "    for i in range(num_measurements):\n",
    "        measurements.append(voltmeter.voltage())\n",
    "    \n",
    "    end_time = time.time()\n",
    "    total_time = end_time - start_time\n",
    "    \n",
    "    measurement_times.append(total_time)\n",
    "    measurement_results.append(measurements)\n",
    "    \n",
    "    print(f\"Time for {num_measurements} measurements: {total_time:.3f} s\")\n",
    "    print(f\"Average time per measurement: {total_time/num_measurements:.3f} s\")\n",
    "    print(f\"Mean voltage: {np.mean(measurements):.6f} V\")\n",
    "    print(f\"Std deviation: {np.std(measurements):.9f} V ({np.std(measurements)*1e9:.2f} nV)\")"
   ]
  },
  {
   "cell_type": "code",
   "execution_count": null,
   "metadata": {},
   "outputs": [],
   "source": [
    "# Plot speed comparison\n",
    "plt.figure(figsize=(15, 5))\n",
    "\n",
    "# Measurement time comparison\n",
    "plt.subplot(1, 3, 1)\n",
    "plt.bar(speed_settings, measurement_times, color=['red', 'orange', 'blue'], alpha=0.7)\n",
    "plt.xlabel('Speed Setting')\n",
    "plt.ylabel('Time for 10 measurements (s)')\n",
    "plt.title('Measurement Speed Comparison')\n",
    "plt.grid(True, alpha=0.3)\n",
    "\n",
    "# Noise comparison (standard deviation)\n",
    "plt.subplot(1, 3, 2)\n",
    "noise_levels = [np.std(results)*1e9 for results in measurement_results]\n",
    "plt.bar(speed_settings, noise_levels, color=['red', 'orange', 'blue'], alpha=0.7)\n",
    "plt.xlabel('Speed Setting')\n",
    "plt.ylabel('Measurement Noise (nV RMS)')\n",
    "plt.title('Noise Level Comparison')\n",
    "plt.grid(True, alpha=0.3)\n",
    "\n",
    "# Noise vs Speed trade-off\n",
    "plt.subplot(1, 3, 3)\n",
    "colors = ['red', 'orange', 'blue']\n",
    "for i, (speed, time_per_meas, noise) in enumerate(zip(speed_settings, \n",
    "                                                     [t/10 for t in measurement_times], \n",
    "                                                     noise_levels)):\n",
    "    plt.scatter(time_per_meas, noise, s=100, c=colors[i], alpha=0.7, label=speed)\n",
    "    plt.annotate(speed, (time_per_meas, noise), xytext=(5, 5), \n",
    "                textcoords='offset points', fontsize=10)\n",
    "\n",
    "plt.xlabel('Time per Measurement (s)')\n",
    "plt.ylabel('Measurement Noise (nV RMS)')\n",
    "plt.title('Speed vs Noise Trade-off')\n",
    "plt.legend()\n",
    "plt.grid(True, alpha=0.3)\n",
    "\n",
    "plt.tight_layout()\n",
    "plt.show()"
   ]
  },
  {
   "cell_type": "markdown",
   "metadata": {},
   "source": [
    "## 11. Cleanup and Best Practices"
   ]
  },
  {
   "cell_type": "code",
   "execution_count": null,
   "metadata": {},
   "outputs": [],
   "source": [
    "# Final status check\n",
    "print(\"=== Final Status Check ===\")\n",
    "final_status = voltmeter.get_measurement_status()\n",
    "print(f\"Current mode: {final_status['mode']}\")\n",
    "print(f\"Current range: {final_status['range']} V\")\n",
    "print(f\"Current NPLC: {final_status['nplc']}\")\n",
    "\n",
    "# Check for any errors before closing\n",
    "error_code, error_message = voltmeter.get_error()\n",
    "if error_code == 0:\n",
    "    print(\"No errors detected\")\n",
    "else:\n",
    "    print(f\"Warning: Error {error_code} - {error_message}\")\n",
    "\n",
    "# Close the instrument connection\n",
    "voltmeter.close()\n",
    "print(\"\\nInstrument connection closed.\")"
   ]
  },
  {
   "cell_type": "markdown",
   "metadata": {},
   "source": [
    "## Summary\n",
    "\n",
    "This notebook demonstrated the key features of the Keithley 2182A driver:\n",
    "\n",
    "1. **Basic Setup**: Instrument initialization and identification\n",
    "2. **Voltage Measurements**: High-precision nanovolt measurements\n",
    "3. **MEASure vs FETCh**: Understanding different measurement commands\n",
    "4. **Optimization**: Presets for different accuracy/speed requirements\n",
    "5. **Statistical Analysis**: Built-in measurement statistics and visualization\n",
    "6. **Temperature Measurements**: Temperature probe support\n",
    "7. **Trigger System**: Advanced triggering for precise timing\n",
    "8. **Status Monitoring**: Comprehensive instrument status\n",
    "9. **Error Handling**: Diagnostics and error management\n",
    "10. **Performance Analysis**: Speed vs noise trade-offs\n",
    "\n",
    "### Key Takeaways:\n",
    "\n",
    "- **Fast measurements** (0.1 NPLC): Best for speed, higher noise\n",
    "- **Medium measurements** (1.0 NPLC): Balanced speed and accuracy\n",
    "- **Slow measurements** (10 NPLC): Maximum accuracy, lower speed\n",
    "- **Filters and averaging** significantly improve measurement stability\n",
    "- **Auto-zero** is essential for best accuracy in DC measurements\n",
    "- **Statistical analysis** helps characterize measurement uncertainty\n",
    "\n",
    "### For Real Hardware Usage:\n",
    "\n",
    "1. Remove the `visalib=visalib` parameter when connecting to real hardware\n",
    "2. Use appropriate VISA addresses (e.g., `'TCPIP::192.168.1.100::INSTR'`)\n",
    "3. Ensure proper grounding and shielding for nanovolt measurements\n",
    "4. Allow adequate warm-up time for maximum accuracy\n",
    "5. Consider environmental factors (temperature, vibration, EMI)\n",
    "\n",
    "The Keithley 2182A driver provides a comprehensive interface for precise voltage and temperature measurements in scientific and industrial applications."
   ]
  }
 ],
 "metadata": {
  "kernelspec": {
   "display_name": "qcodes-contrib-drivers-py3.12",
   "language": "python",
   "name": "python3"
  },
  "language_info": {
   "codemirror_mode": {
    "name": "ipython",
    "version": 3
   },
   "file_extension": ".py",
   "mimetype": "text/x-python",
   "name": "python",
   "nbconvert_exporter": "python",
   "pygments_lexer": "ipython3",
   "version": "3.12.9"
  }
 },
 "nbformat": 4,
 "nbformat_minor": 4
}
