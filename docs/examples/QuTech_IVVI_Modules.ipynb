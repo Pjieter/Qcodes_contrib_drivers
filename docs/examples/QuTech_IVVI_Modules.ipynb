{
 "cells": [
  {
   "cell_type": "markdown",
   "metadata": {},
   "source": [
    "# QuTech IVVI Manual Modules\n",
    "\n",
    "This notebook demonstrates the usage of QCoDeS instrument drivers for manual QuTech IVVI rack modules. These drivers serve as software abstraction layers for documentation, parameter tracking, and integration with measurement scripts for modules that are operated manually.\n",
    "\n",
    "## Overview\n",
    "\n",
    "The IVVI manual modules complement the existing RS232-based IVVI driver by providing software representations of manual modules. They are designed for:\n",
    "\n",
    "- **Documentation**: Keep track of module configurations and settings\n",
    "- **Parameter tracking**: Monitor and validate parameter ranges  \n",
    "- **Integration**: Seamless integration with QCoDeS measurement scripts\n",
    "- **Extensibility**: Easy to add new module types"
   ]
  },
  {
   "cell_type": "markdown",
   "metadata": {},
   "source": [
    "## Installation and Imports\n",
    "\n",
    "First, let's import the necessary modules:"
   ]
  },
  {
   "cell_type": "code",
   "execution_count": null,
   "metadata": {},
   "outputs": [],
   "source": [
    "import numpy as np\n",
    "import time\n",
    "\n",
    "from qcodes_contrib_drivers.drivers.QuTech.IVVI_Modules import (\n",
    "    IVVI_Module, S4c, M2m, M2b, M1b, VId, IVd\n",
    ")"
   ]
  },
  {
   "cell_type": "markdown",
   "metadata": {},
   "source": [
    "## Available Modules\n",
    "\n",
    "### Base Class: `IVVI_Module`\n",
    "\n",
    "All manual modules inherit from this base class which provides:\n",
    "- Common parameters: `module_type`, `rack_position`, `notes`\n",
    "- Standard `get_idn()` method\n",
    "- Consistent interface across all modules"
   ]
  },
  {
   "cell_type": "code",
   "execution_count": null,
   "metadata": {},
   "outputs": [],
   "source": [
    "# Create a base module instance to demonstrate common functionality\n",
    "base_module = IVVI_Module('demo_module')\n",
    "base_module.module_type('Demo')\n",
    "base_module.rack_position('Slot 1')\n",
    "base_module.notes('Example module for demonstration')\n",
    "\n",
    "print(f\"Module name: {base_module.name}\")\n",
    "print(f\"Module type: {base_module.module_type()}\")\n",
    "print(f\"Rack position: {base_module.rack_position()}\")\n",
    "print(f\"IDN: {base_module.get_idn()}\")"
   ]
  },
  {
   "cell_type": "markdown",
   "metadata": {},
   "source": [
    "## Current Source Modules\n",
    "\n",
    "### `S4c` - 4-Channel Current Source\n",
    "- **Range**: ±10 μA with 16-bit resolution\n",
    "- **Channels**: 4 independent current outputs\n",
    "- **Parameters**: \n",
    "  - `ch1_current` through `ch4_current` (range: ±10 μA)\n",
    "  - `ch1_enabled` through `ch4_enabled` (boolean)\n",
    "  - `current_range`, `resolution`"
   ]
  },
  {
   "cell_type": "code",
   "execution_count": null,
   "metadata": {},
   "outputs": [],
   "source": [
    "# Create and configure a current source\n",
    "current_source = S4c('cs1')\n",
    "current_source.rack_position('Slot 1')\n",
    "current_source.notes('Gate voltage control')\n",
    "\n",
    "print(f\"Current source: {current_source.name}\")\n",
    "print(f\"Module type: {current_source.module_type()}\")\n",
    "print(f\"Current range: {current_source.current_range()}\")\n",
    "print(f\"Resolution: {current_source.resolution():.2e} A\")\n",
    "\n",
    "# Configure channels\n",
    "current_source.ch1_enabled(True)\n",
    "current_source.ch1_current(1e-6)  # 1 μA\n",
    "current_source.ch2_enabled(True)\n",
    "current_source.ch2_current(-0.5e-6)  # -0.5 μA\n",
    "\n",
    "print(f\"\\nChannel 1: {current_source.ch1_current()} A, enabled: {current_source.ch1_enabled()}\")\n",
    "print(f\"Channel 2: {current_source.ch2_current()} A, enabled: {current_source.ch2_enabled()}\")"
   ]
  },
  {
   "cell_type": "markdown",
   "metadata": {},
   "source": [
    "#### Parameter Validation\n",
    "\n",
    "The modules automatically validate parameter ranges:"
   ]
  },
  {
   "cell_type": "code",
   "execution_count": null,
   "metadata": {},
   "outputs": [],
   "source": [
    "# Demonstrate parameter validation\n",
    "try:\n",
    "    current_source.ch1_current(15e-6)  # Should fail: exceeds ±10 μA range\n",
    "    print(\"This should not print - validation failed\")\n",
    "except ValueError as e:\n",
    "    print(f\"✓ Validation working: {e}\")\n",
    "\n",
    "# Valid range\n",
    "current_source.ch1_current(9.5e-6)  # Should work\n",
    "print(f\"✓ Valid value set: {current_source.ch1_current()} A\")"
   ]
  },
  {
   "cell_type": "markdown",
   "metadata": {},
   "source": [
    "## Voltage Source Modules\n",
    "\n",
    "### `M2m` - 2-Channel Voltage Source  \n",
    "- **Range**: ±4V with 16-bit resolution\n",
    "- **Channels**: 2 independent voltage outputs"
   ]
  },
  {
   "cell_type": "code",
   "execution_count": null,
   "metadata": {},
   "outputs": [],
   "source": [
    "# Create voltage sources\n",
    "voltage_source_m2m = M2m('vs_m2m')\n",
    "voltage_source_m2m.rack_position('Slot 2')\n",
    "\n",
    "print(f\"M2m voltage source: {voltage_source_m2m.name}\")\n",
    "print(f\"Voltage range: {voltage_source_m2m.voltage_range()}\")\n",
    "print(f\"Resolution: {voltage_source_m2m.resolution():.2e} V\")\n",
    "\n",
    "# Configure channels\n",
    "voltage_source_m2m.ch1_enabled(True)\n",
    "voltage_source_m2m.ch1_voltage(2.5)  # 2.5 V\n",
    "voltage_source_m2m.ch2_enabled(True)\n",
    "voltage_source_m2m.ch2_voltage(-1.0)  # -1.0 V\n",
    "\n",
    "print(f\"\\nChannel 1: {voltage_source_m2m.ch1_voltage()} V\")\n",
    "print(f\"Channel 2: {voltage_source_m2m.ch2_voltage()} V\")"
   ]
  },
  {
   "cell_type": "markdown",
   "metadata": {},
   "source": [
    "### `M2b` - 2-Channel Voltage Source\n",
    "Similar to M2m with same specifications and parameters"
   ]
  },
  {
   "cell_type": "code",
   "execution_count": null,
   "metadata": {},
   "outputs": [],
   "source": [
    "voltage_source_m2b = M2b('vs_m2b')\n",
    "voltage_source_m2b.rack_position('Slot 3')\n",
    "voltage_source_m2b.ch1_voltage(1.5)  # 1.5 V\n",
    "\n",
    "print(f\"M2b voltage source: {voltage_source_m2b.name}\")\n",
    "print(f\"Channel 1: {voltage_source_m2b.ch1_voltage()} V\")"
   ]
  },
  {
   "cell_type": "markdown",
   "metadata": {},
   "source": [
    "### `M1b` - 1-Channel Voltage Source\n",
    "- **Range**: ±4V with 16-bit resolution  \n",
    "- **Channels**: 1 voltage output"
   ]
  },
  {
   "cell_type": "code",
   "execution_count": null,
   "metadata": {},
   "outputs": [],
   "source": [
    "voltage_source_m1b = M1b('vs_m1b')\n",
    "voltage_source_m1b.rack_position('Slot 4')\n",
    "voltage_source_m1b.ch1_voltage(0.8)  # 0.8 V\n",
    "\n",
    "print(f\"M1b voltage source: {voltage_source_m1b.name}\")\n",
    "print(f\"Single channel: {voltage_source_m1b.ch1_voltage()} V\")\n",
    "print(f\"Has ch2_voltage: {hasattr(voltage_source_m1b, 'ch2_voltage')}\")"
   ]
  },
  {
   "cell_type": "markdown",
   "metadata": {},
   "source": [
    "## Measurement Modules\n",
    "\n",
    "### `VId` - Multi-Channel Voltage Measurement\n",
    "- **Range**: ±10V measurement range\n",
    "- **Channels**: Configurable (default 8 channels)"
   ]
  },
  {
   "cell_type": "code",
   "execution_count": null,
   "metadata": {},
   "outputs": [],
   "source": [
    "# Create voltmeter with custom channel count\n",
    "voltmeter = VId('vm1', num_channels=4)\n",
    "voltmeter.rack_position('Slot 5')\n",
    "\n",
    "print(f\"Voltmeter: {voltmeter.name}\")\n",
    "print(f\"Number of channels: {voltmeter.num_channels()}\")\n",
    "print(f\"Measurement range: {voltmeter.measurement_range()}\")\n",
    "\n",
    "# Simulate some measurements (manually read from device)\n",
    "measured_voltages = [2.34, -1.56, 0.89, 3.21]  # Example readings\n",
    "for i, voltage in enumerate(measured_voltages, 1):\n",
    "    getattr(voltmeter, f'ch{i}_voltage')(voltage)\n",
    "    print(f\"Channel {i}: {getattr(voltmeter, f'ch{i}_voltage')()} V\")"
   ]
  },
  {
   "cell_type": "markdown",
   "metadata": {},
   "source": [
    "## Source-Measure Modules\n",
    "\n",
    "### `IVd` - Multi-Channel Source-Measure\n",
    "- **Voltage source**: ±4V with 16-bit resolution\n",
    "- **Current measurement**: ±100 μA with 16-bit resolution\n",
    "- **Channels**: Configurable (default 4 channels)"
   ]
  },
  {
   "cell_type": "code",
   "execution_count": null,
   "metadata": {},
   "outputs": [],
   "source": [
    "# Create source-measure unit\n",
    "smu = IVd('smu1', num_channels=2)\n",
    "smu.rack_position('Slot 6')\n",
    "\n",
    "print(f\"Source-measure unit: {smu.name}\")\n",
    "print(f\"Number of channels: {smu.num_channels()}\")\n",
    "print(f\"Voltage range: {smu.voltage_range()}\")\n",
    "print(f\"Current range: {smu.current_range()}\")\n",
    "print(f\"Voltage resolution: {smu.voltage_resolution():.2e} V\")\n",
    "print(f\"Current resolution: {smu.current_resolution():.2e} A\")\n",
    "\n",
    "# Configure source-measure channels\n",
    "smu.ch1_source_enabled(True)\n",
    "smu.ch1_voltage(2.0)              # 2.0 V source\n",
    "smu.ch1_current(50e-6)            # 50 μA measured\n",
    "\n",
    "smu.ch2_source_enabled(True)\n",
    "smu.ch2_voltage(-1.5)             # -1.5 V source\n",
    "smu.ch2_current(-25e-6)           # -25 μA measured\n",
    "\n",
    "print(f\"\\nChannel 1 - Source: {smu.ch1_voltage()} V, Measure: {smu.ch1_current()} A\")\n",
    "print(f\"Channel 2 - Source: {smu.ch2_voltage()} V, Measure: {smu.ch2_current()} A\")"
   ]
  },
  {
   "cell_type": "markdown",
   "metadata": {},
   "source": [
    "## Practical Usage Example: Measurement Setup\n",
    "\n",
    "Here's an example of how to configure multiple modules for a typical measurement:"
   ]
  },
  {
   "cell_type": "code",
   "execution_count": null,
   "metadata": {},
   "outputs": [],
   "source": [
    "# Create a complete measurement setup\n",
    "def setup_ivvi_rack():\n",
    "    \"\"\"Set up a complete IVVI rack configuration.\"\"\"\n",
    "    \n",
    "    # Current sources for gate control\n",
    "    gate_cs = S4c('gate_current_source')\n",
    "    gate_cs.rack_position('Slot 1')\n",
    "    gate_cs.notes('Gate voltage control for quantum dots')\n",
    "    \n",
    "    # Voltage sources for bias\n",
    "    bias_vs = M2m('bias_voltage_source')\n",
    "    bias_vs.rack_position('Slot 2')\n",
    "    bias_vs.notes('Source-drain bias voltage')\n",
    "    \n",
    "    # Voltmeter for monitoring\n",
    "    monitor_vm = VId('monitor_voltmeter', num_channels=6)\n",
    "    monitor_vm.rack_position('Slot 3')\n",
    "    monitor_vm.notes('Voltage monitoring across device')\n",
    "    \n",
    "    # Source-measure for current measurement\n",
    "    current_smu = IVd('current_smu', num_channels=2)\n",
    "    current_smu.rack_position('Slot 4')\n",
    "    current_smu.notes('Current measurement through device')\n",
    "    \n",
    "    return {\n",
    "        'gate_cs': gate_cs,\n",
    "        'bias_vs': bias_vs,\n",
    "        'monitor_vm': monitor_vm,\n",
    "        'current_smu': current_smu\n",
    "    }\n",
    "\n",
    "# Set up the rack\n",
    "rack = setup_ivvi_rack()\n",
    "\n",
    "# Display rack configuration\n",
    "print(\"IVVI Rack Configuration:\")\n",
    "print(\"=\" * 40)\n",
    "for name, module in rack.items():\n",
    "    idn = module.get_idn()\n",
    "    print(f\"{name}: {idn['vendor']} {idn['model']}\")\n",
    "    print(f\"  Position: {module.rack_position()}\")\n",
    "    print(f\"  Notes: {module.notes()}\")\n",
    "    print()"
   ]
  },
  {
   "cell_type": "markdown",
   "metadata": {},
   "source": [
    "### Measurement Loop Example"
   ]
  },
  {
   "cell_type": "code",
   "execution_count": null,
   "metadata": {},
   "outputs": [],
   "source": [
    "# Simulate a gate sweep measurement\n",
    "def gate_sweep_measurement(rack):\n",
    "    \"\"\"Simulate a gate voltage sweep measurement.\"\"\"\n",
    "    \n",
    "    gate_cs = rack['gate_cs']\n",
    "    current_smu = rack['current_smu']\n",
    "    \n",
    "    # Configure initial settings\n",
    "    gate_cs.ch1_enabled(True)\n",
    "    current_smu.ch1_source_enabled(False)  # Only measuring\n",
    "    current_smu.ch1_measure_enabled(True)\n",
    "    \n",
    "    # Sweep parameters\n",
    "    gate_voltages = np.linspace(-2e-6, 2e-6, 11)  # -2 to +2 μA\n",
    "    \n",
    "    measurements = []\n",
    "    \n",
    "    print(\"Gate Sweep Measurement:\")\n",
    "    print(\"Gate Current (μA)\\tMeasured Current (nA)\")\n",
    "    print(\"-\" * 45)\n",
    "    \n",
    "    for gate_current in gate_voltages:\n",
    "        # Set gate current (manually on device)\n",
    "        gate_cs.ch1_current(gate_current)\n",
    "        \n",
    "        # Simulate measurement delay\n",
    "        time.sleep(0.01)\n",
    "        \n",
    "        # Simulate measured current (manually read from device)\n",
    "        # In reality, you would read this from the actual device\n",
    "        measured_current = 10e-9 * np.sin(gate_current * 1e6) + np.random.normal(0, 0.1e-9)\n",
    "        current_smu.ch1_current(measured_current)\n",
    "        \n",
    "        # Store measurement\n",
    "        measurement = {\n",
    "            'gate_current': gate_current,\n",
    "            'measured_current': measured_current,\n",
    "            'timestamp': time.time()\n",
    "        }\n",
    "        measurements.append(measurement)\n",
    "        \n",
    "        print(f\"{gate_current*1e6:12.3f}\\t\\t{measured_current*1e9:12.3f}\")\n",
    "    \n",
    "    return measurements\n",
    "\n",
    "# Run the measurement\n",
    "results = gate_sweep_measurement(rack)\n",
    "print(f\"\\nCompleted {len(results)} measurements\")"
   ]
  },
  {
   "cell_type": "markdown",
   "metadata": {},
   "source": [
    "## Module Information and Snapshots"
   ]
  },
  {
   "cell_type": "code",
   "execution_count": null,
   "metadata": {},
   "outputs": [],
   "source": [
    "# Get comprehensive information about a module\n",
    "def print_module_info(module):\n",
    "    \"\"\"Print detailed information about an IVVI module.\"\"\"\n",
    "    print(f\"Module: {module.name}\")\n",
    "    print(f\"Type: {module.module_type()}\")\n",
    "    print(f\"Position: {module.rack_position()}\")\n",
    "    print(f\"Notes: {module.notes()}\")\n",
    "    \n",
    "    # Get snapshot for current state\n",
    "    snapshot = module.snapshot()\n",
    "    print(\"\\nParameters:\")\n",
    "    for param_name, param_info in snapshot['parameters'].items():\n",
    "        if 'value' in param_info:\n",
    "            value = param_info['value']\n",
    "            unit = param_info.get('unit', '')\n",
    "            print(f\"  {param_name}: {value} {unit}\")\n",
    "    print()\n",
    "\n",
    "# Show information for each module in the rack\n",
    "for name, module in rack.items():\n",
    "    print_module_info(module)\n",
    "    print(\"-\" * 50)"
   ]
  },
  {
   "cell_type": "markdown",
   "metadata": {},
   "source": [
    "## Extending the Framework\n",
    "\n",
    "Adding new IVVI modules is straightforward. Here's an example of how to create a custom module:"
   ]
  },
  {
   "cell_type": "code",
   "execution_count": null,
   "metadata": {},
   "outputs": [],
   "source": [
    "from qcodes.parameters import Parameter\n",
    "from qcodes.validators import Numbers\n",
    "\n",
    "class CustomModule(IVVI_Module):\n",
    "    \"\"\"Example of a custom IVVI module.\"\"\"\n",
    "    \n",
    "    def __init__(self, name: str, **kwargs):\n",
    "        super().__init__(name, **kwargs)\n",
    "        \n",
    "        # Set module type\n",
    "        self.module_type('Custom')\n",
    "        \n",
    "        # Add custom parameters\n",
    "        self.add_parameter(\n",
    "            'custom_parameter',\n",
    "            initial_value=0.0,\n",
    "            unit='V',\n",
    "            vals=Numbers(-10, 10),\n",
    "            docstring='A custom parameter for demonstration',\n",
    "            parameter_class=Parameter\n",
    "        )\n",
    "        \n",
    "        self.add_parameter(\n",
    "            'custom_setting',\n",
    "            initial_value='default',\n",
    "            vals=None,\n",
    "            docstring='A custom setting parameter',\n",
    "            parameter_class=Parameter\n",
    "        )\n",
    "\n",
    "# Create and test the custom module\n",
    "custom = CustomModule('my_custom_module')\n",
    "custom.rack_position('Slot 7')\n",
    "custom.notes('Custom module for special applications')\n",
    "custom.custom_parameter(5.0)\n",
    "custom.custom_setting('special_mode')\n",
    "\n",
    "print_module_info(custom)"
   ]
  },
  {
   "cell_type": "markdown",
   "metadata": {},
   "source": [
    "## Summary\n",
    "\n",
    "The QuTech IVVI manual modules provide:\n",
    "\n",
    "1. **Consistent Interface**: All modules follow the same parameter naming and structure\n",
    "2. **Parameter Validation**: Automatic range checking with appropriate error messages\n",
    "3. **Documentation Tools**: Software tracking of manual instrument configurations\n",
    "4. **QCoDeS Integration**: Seamless integration with QCoDeS measurement scripts\n",
    "5. **Extensibility**: Easy to add new module types following established patterns\n",
    "\n",
    "These drivers serve as effective documentation and parameter tracking tools for manual IVVI instruments while maintaining compatibility with existing automated systems using the RS232 driver.\n",
    "\n",
    "### Available Modules Summary:\n",
    "\n",
    "- **`IVVI_Module`**: Base class with common functionality\n",
    "- **`S4c`**: 4-channel current source (±10 μA)\n",
    "- **`M2m/M2b`**: 2-channel voltage sources (±4V)\n",
    "- **`M1b`**: 1-channel voltage source (±4V)\n",
    "- **`VId`**: Multi-channel voltage measurement (±10V)\n",
    "- **`IVd`**: Multi-channel source-measure (±4V/±100μA)\n",
    "\n",
    "For electronic control of IVVI modules, use the existing `IVVI` RS232 driver instead."
   ]
  }
 ],
 "metadata": {
  "kernelspec": {
   "display_name": "Python 3",
   "language": "python",
   "name": "python3"
  },
  "language_info": {
   "codemirror_mode": {
    "name": "ipython",
    "version": 3
   },
   "file_extension": ".py",
   "mimetype": "text/x-python",
   "name": "python",
   "nbconvert_exporter": "python",
   "pygments_lexer": "ipython3",
   "version": "3.8.0"
  }
 },
 "nbformat": 4,
 "nbformat_minor": 4
}